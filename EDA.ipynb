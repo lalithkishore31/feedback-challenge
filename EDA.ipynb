{
 "cells": [
  {
   "cell_type": "code",
   "execution_count": 5,
   "id": "b1e77346-25bb-49a7-b4f9-06383874ed2e",
   "metadata": {},
   "outputs": [],
   "source": [
    "# !pip install pandas\n",
    "# !pip install numpy\n",
    "# !pip install matplotlib\n",
    "# !pip install scipy"
   ]
  },
  {
   "cell_type": "code",
   "execution_count": 6,
   "id": "05bef113-d8ae-4b53-add9-c1d4bbb359f4",
   "metadata": {},
   "outputs": [],
   "source": [
    "import numpy as np\n",
    "import pandas as pd\n",
    "import matplotlib.pyplot as plt\n",
    "import scipy as sp"
   ]
  },
  {
   "cell_type": "code",
   "execution_count": null,
   "id": "e9370ca0-1c3f-4f85-b57e-029c4a4a7321",
   "metadata": {},
   "outputs": [],
   "source": [
    "import os"
   ]
  },
  {
   "cell_type": "code",
   "execution_count": 8,
   "id": "587658b3-a5ae-4904-9fcb-c0fbc714b5bb",
   "metadata": {},
   "outputs": [],
   "source": [
    "base_path = \"../feedback-challenge\""
   ]
  },
  {
   "cell_type": "code",
   "execution_count": null,
   "id": "8f18f26c-21a9-4179-a924-43e0f38d3ad4",
   "metadata": {},
   "outputs": [],
   "source": [
    "train_path = os.path.join(base_path, \"\")"
   ]
  }
 ],
 "metadata": {
  "kernelspec": {
   "display_name": "kaggle",
   "language": "python",
   "name": "kaggle"
  },
  "language_info": {
   "codemirror_mode": {
    "name": "ipython",
    "version": 2
   },
   "file_extension": ".py",
   "mimetype": "text/x-python",
   "name": "python",
   "nbconvert_exporter": "python",
   "pygments_lexer": "ipython2",
   "version": "2.7.17"
  }
 },
 "nbformat": 4,
 "nbformat_minor": 5
}
